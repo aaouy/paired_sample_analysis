{
 "cells": [
  {
   "cell_type": "markdown",
   "metadata": {},
   "source": [
    "# A Paired Sample Analysis of Google Maps Bus Time Estimates in Singapore"
   ]
  },
  {
   "cell_type": "markdown",
   "metadata": {},
   "source": [
    "## Background\n",
    "Public transport systems in Singapore play a vital role in transporting millions of people a day. It's efficiency has been, and continues to be a major reason as to why Singapore and it's economy continues to grow at an astounding rate. People often rely on online services to gather information about their public transport. One popular service that is often used is Google Maps. This statistical analysis aims to compare Google Maps' estimated bus travel durations with the actual travel durations recorded during the same journey to determine whether these estimates are accurate and reliable. \n",
    "\n",
    "The process began at the bus stop, where estimated bus durations from Google Maps were noted 5 minutes before the bus arrived. As soon as the bus arrived and came to a complete halt, a timer was started. This timer continued until the destination had been reached and the bus came to a complete stop. The time was then noted. This was repeated twenty eight times across an approximate one and a half week duration. \n",
    "\n",
    "It is noted that Google Maps estimates are rounded to the nearest minute, however actual travel durations were given to the nearest second. Both sets of data are given in seconds. It is also noted that most of the bus routes are from the 196 bus from UTown to Clementi mall (as I tend to find myself taking this bus route often). Thus there may be some bias, and these results are unlikely to be a completely accurate representation of Singapore as a whole. "
   ]
  },
  {
   "cell_type": "markdown",
   "metadata": {},
   "source": [
    "### Loading Data"
   ]
  },
  {
   "cell_type": "code",
   "execution_count": 2,
   "metadata": {},
   "outputs": [],
   "source": [
    "estimated_travel_durations = [\n",
    "    660, 780, 660, 780, 660, 840, 660, 960, 660,\n",
    "    720, 780, 720, 840, 660, 840, 660, 900, 720,\n",
    "    660, 840, 660, 780, 720, 900, 720, 960, 720, 780\n",
    "]\n",
    "\n",
    "actual_travel_durations = [\n",
    "    687, 720, 582, 825, 692, 833, 642, 831, 671,\n",
    "    691, 783, 669, 841, 669, 818, 657, 917, 733,\n",
    "    672, 849, 703, 788, 692, 861, 685, 937, 732, 813\n",
    "]"
   ]
  }
 ],
 "metadata": {
  "kernelspec": {
   "display_name": "base",
   "language": "python",
   "name": "python3"
  },
  "language_info": {
   "codemirror_mode": {
    "name": "ipython",
    "version": 3
   },
   "file_extension": ".py",
   "mimetype": "text/x-python",
   "name": "python",
   "nbconvert_exporter": "python",
   "pygments_lexer": "ipython3",
   "version": "3.12.2"
  }
 },
 "nbformat": 4,
 "nbformat_minor": 2
}
